{
 "cells": [
  {
   "cell_type": "code",
   "execution_count": 80,
   "id": "bcfd395e",
   "metadata": {},
   "outputs": [],
   "source": [
    "#step 1\n",
    "# basic 2 bit palindrome"
   ]
  },
  {
   "cell_type": "code",
   "execution_count": 81,
   "id": "9f0a25c3",
   "metadata": {},
   "outputs": [],
   "source": [
    "import numpy as np\n",
    "from qiskit import QuantumCircuit, QuantumRegister, ClassicalRegister\n",
    "from qiskit_aer import Aer\n",
    "from qiskit.visualization import plot_histogram\n",
    "import matplotlib.pyplot as plt"
   ]
  },
  {
   "cell_type": "code",
   "execution_count": 82,
   "id": "2e8228fe",
   "metadata": {},
   "outputs": [],
   "source": [
    "test_string = '11'\n",
    "binary_string = test_string"
   ]
  },
  {
   "cell_type": "code",
   "execution_count": 83,
   "id": "6ecc1a9b",
   "metadata": {},
   "outputs": [
    {
     "name": "stdout",
     "output_type": "stream",
     "text": [
      "Palindrome Check: YES\n"
     ]
    }
   ],
   "source": [
    "is_actually_palindrome = test_string == test_string[::-1]\n",
    "print(f\"Palindrome Check: {'YES' if is_actually_palindrome else 'NO'}\")"
   ]
  },
  {
   "cell_type": "code",
   "execution_count": 84,
   "id": "6272583a",
   "metadata": {},
   "outputs": [],
   "source": [
    "# Create 2 qubits for our string\n",
    "# Plus 1 qubit to store the comparison result\n",
    "qubits = QuantumRegister(3, 'q')\n",
    "bits = ClassicalRegister(3, 'c')\n",
    "circuit = QuantumCircuit(qubits, bits)"
   ]
  },
  {
   "cell_type": "code",
   "execution_count": 85,
   "id": "e20cd4cf",
   "metadata": {},
   "outputs": [],
   "source": [
    "if test_string[0] == '1':\n",
    "    circuit.x(qubits[0])\n",
    "\n",
    "if test_string[1] == '1': \n",
    "    circuit.x(qubits[1])\n"
   ]
  },
  {
   "cell_type": "code",
   "execution_count": 86,
   "id": "38c61049",
   "metadata": {},
   "outputs": [
    {
     "data": {
      "text/plain": [
       "<qiskit.circuit.instructionset.InstructionSet at 0x137b84430>"
      ]
     },
     "execution_count": 86,
     "metadata": {},
     "output_type": "execute_result"
    }
   ],
   "source": [
    "\n",
    "circuit.cx(qubits[0], qubits[2])  \n",
    "circuit.cx(qubits[1], qubits[2]) "
   ]
  },
  {
   "cell_type": "code",
   "execution_count": 87,
   "id": "b2700292",
   "metadata": {},
   "outputs": [
    {
     "data": {
      "text/plain": [
       "<qiskit.circuit.instructionset.InstructionSet at 0x137b84340>"
      ]
     },
     "execution_count": 87,
     "metadata": {},
     "output_type": "execute_result"
    }
   ],
   "source": [
    "circuit.x(qubits[2])"
   ]
  },
  {
   "cell_type": "code",
   "execution_count": 88,
   "id": "eb1f4319",
   "metadata": {},
   "outputs": [
    {
     "data": {
      "text/plain": [
       "<qiskit.circuit.instructionset.InstructionSet at 0x137408d60>"
      ]
     },
     "execution_count": 88,
     "metadata": {},
     "output_type": "execute_result"
    }
   ],
   "source": [
    "circuit.measure([0, 1, 2], [0, 1, 2])"
   ]
  },
  {
   "cell_type": "code",
   "execution_count": 89,
   "id": "494047b6",
   "metadata": {},
   "outputs": [
    {
     "data": {
      "image/png": "[encoded data removed]",
      "text/plain": [
       "<Figure size 705.552x367.889 with 1 Axes>"
      ]
     },
     "execution_count": 89,
     "metadata": {},
     "output_type": "execute_result"
    }
   ],
   "source": [
    "circuit.draw('mpl')"
   ]
  },
  {
   "cell_type": "code",
   "execution_count": 90,
   "id": "d9730196",
   "metadata": {},
   "outputs": [],
   "source": [
    "simulator = Aer.get_backend('aer_simulator')\n",
    "job = simulator.run(circuit, shots=1024)\n",
    "result = job.result()\n",
    "counts = result.get_counts()"
   ]
  },
  {
   "cell_type": "code",
   "execution_count": 91,
   "id": "2c39963c",
   "metadata": {},
   "outputs": [
    {
     "data": {
      "image/png": "[encoded data removed]",
      "text/plain": [
       "<Figure size 640x480 with 1 Axes>"
      ]
     },
     "execution_count": 91,
     "metadata": {},
     "output_type": "execute_result"
    }
   ],
   "source": [
    "from qiskit.visualization import plot_histogram\n",
    "\n",
    "plot_histogram(counts)"
   ]
  },
  {
   "cell_type": "code",
   "execution_count": 92,
   "id": "ced095b7",
   "metadata": {},
   "outputs": [
    {
     "name": "stdout",
     "output_type": "stream",
     "text": [
      "Quantum result: Palindrome\n"
     ]
    }
   ],
   "source": [
    "most_common_result = max(counts, key=counts.get)\n",
    "result_digit = most_common_result[0]\n",
    "print(f\"Quantum result: {'Palindrome' if result_digit == '1' else 'Not palindrome'}\")\n"
   ]
  },
  {
   "cell_type": "markdown",
   "id": "43259479",
   "metadata": {},
   "source": [
    "for 3 qubits we can just compare 1 and 3 qubits and we can solve the problem"
   ]
  },
  {
   "cell_type": "markdown",
   "id": "0d32cf38",
   "metadata": {},
   "source": [
    "similarly,\n",
    "\n",
    "4 bit string -> compare 1 and 4 , 2 and 3\n",
    "\n",
    "5 bit string -> compare 1 and 5, 2 and 4\n",
    "\n",
    "For any N-bit string:\n",
    "\n",
    "Compare bit 0 with bit N-1\n",
    "Compare bit 1 with bit N-2\n",
    "Compare bit 2 with bit N-3\n",
    "...\n",
    "Stop when you reach the middle\n",
    "\n",
    "but so far we are not implementing reversibility right.."
   ]
  },
  {
   "cell_type": "code",
   "execution_count": 118,
   "id": "5d0bb9a1",
   "metadata": {},
   "outputs": [],
   "source": [
    "while True:\n",
    "    try:\n",
    "        binary_string = input(\"Enter binary string: \").strip()\n",
    "        \n",
    "        # Validate input\n",
    "        if not binary_string:\n",
    "            print(\"Please enter something!\")\n",
    "            continue\n",
    "        \n",
    "        if not all(c in '01' for c in binary_string):\n",
    "            print(\"Only 0s and 1s allowed!\")\n",
    "            continue\n",
    "        \n",
    "        if len(binary_string) < 2:\n",
    "            print(\"Need at least 2 bits!\")\n",
    "            continue\n",
    "        \n",
    "        break\n",
    "        \n",
    "    except (KeyboardInterrupt, EOFError):\n",
    "        print(\"\\nExiting...\")\n",
    "        exit()"
   ]
  },
  {
   "cell_type": "code",
   "execution_count": 119,
   "id": "0ee9db90",
   "metadata": {},
   "outputs": [],
   "source": [
    "# Setup based on string length\n",
    "string_length = len(binary_string)\n",
    "num_pairs = string_length // 2"
   ]
  },
  {
   "cell_type": "code",
   "execution_count": 120,
   "id": "94fe4c3c",
   "metadata": {},
   "outputs": [],
   "source": [
    "# Create registers dynamically\n",
    "input_reg = QuantumRegister(string_length, 'input')\n",
    "comparison_reg = QuantumRegister(num_pairs, 'comp')\n",
    "result_reg = QuantumRegister(1, 'result')\n",
    "ancilla_reg = QuantumRegister(num_pairs, 'ancilla')\n",
    "\n",
    "input_classical = ClassicalRegister(string_length, 'input_meas')\n",
    "comparison_classical = ClassicalRegister(num_pairs, 'comp_meas')\n",
    "result_classical = ClassicalRegister(1, 'result_meas')\n",
    "ancilla_classical = ClassicalRegister(num_pairs, 'ancilla_meas')"
   ]
  },
  {
   "cell_type": "code",
   "execution_count": null,
   "id": "1d51696f",
   "metadata": {},
   "outputs": [],
   "source": []
  }
 ],
 "metadata": {
  "kernelspec": {
   "display_name": "base",
   "language": "python",
   "name": "python3"
  },
  "language_info": {
   "codemirror_mode": {
    "name": "ipython",
    "version": 3
   },
   "file_extension": ".py",
   "mimetype": "text/x-python",
   "name": "python",
   "nbconvert_exporter": "python",
   "pygments_lexer": "ipython3",
   "version": "3.13.5"
  }
 },
 "nbformat": 4,
 "nbformat_minor": 5
}
