{
 "cells": [
  {
   "cell_type": "markdown",
   "id": "d7dc2c95",
   "metadata": {},
   "source": [
    "Things to remember:\n",
    "\n",
    "- Reversible computing\n"
   ]
  },
  {
   "cell_type": "markdown",
   "id": "6b21b3bc",
   "metadata": {},
   "source": [
    "Binary addition \n",
    "\n",
    "0 + 0 = sum 0  carry 0\n",
    "\n",
    "0+1 = sum 1 carry 0\n",
    "\n",
    "1+0 = sum 1 carry 0\n",
    "\n",
    "1+1 = sum 0 carry 1\n",
    "\n",
    "1+1+1 = sum 1 carry 1"
   ]
  },
  {
   "cell_type": "code",
   "execution_count": null,
   "id": "f6047790",
   "metadata": {},
   "outputs": [],
   "source": [
    "from qiskit import *"
   ]
  },
  {
   "cell_type": "code",
   "execution_count": null,
   "id": "b07cf196",
   "metadata": {},
   "outputs": [],
   "source": []
  }
 ],
 "metadata": {
  "kernelspec": {
   "display_name": "base",
   "language": "python",
   "name": "python3"
  },
  "language_info": {
   "name": "python",
   "version": "3.13.5"
  }
 },
 "nbformat": 4,
 "nbformat_minor": 5
}
