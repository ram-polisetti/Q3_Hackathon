{
 "cells": [
  {
   "cell_type": "markdown",
   "id": "d7dc2c95",
   "metadata": {},
   "source": [
    "Things to remember:\n",
    "\n",
    "- Reversible computing\n"
   ]
  },
  {
   "cell_type": "markdown",
   "id": "6b21b3bc",
   "metadata": {},
   "source": [
    "Binary addition \n",
    "\n",
    "0 + 0 = sum 0  carry 0\n",
    "\n",
    "0+1 = sum 1 carry 0\n",
    "\n",
    "1+0 = sum 1 carry 0\n",
    "\n",
    "1+1 = sum 0 carry 1\n",
    "\n",
    "1+1+1 = sum 1 carry 1"
   ]
  },
  {
   "cell_type": "code",
   "execution_count": 51,
   "id": "f6047790",
   "metadata": {},
   "outputs": [],
   "source": [
    "from qiskit import QuantumCircuit, QuantumRegister, ClassicalRegister\n",
    "from qiskit_aer import Aer\n",
    "import numpy as np\n",
    "import matplotlib.pyplot as plt"
   ]
  },
  {
   "cell_type": "markdown",
   "id": "f4bf5004",
   "metadata": {},
   "source": [
    "what are the building blocks of reversibility\n",
    "\n",
    "1. the reversible xor (sum component of half adder)\n",
    "     it outputs 1 if both the inputs are different and outputs 0 if both of them are same\n",
    "its basically, a sum operation when carry is not involved\n",
    "\n",
    "CNOT gate in Quantum Gates performs the XOR operation and is reversible \n",
    "\n",
    "\n",
    "2. The reversible and \n",
    "     Classical AND is irreversible so to make it reversible we use toffoli gate\n"
   ]
  },
  {
   "cell_type": "code",
   "execution_count": 20,
   "id": "e8056064",
   "metadata": {},
   "outputs": [
    {
     "name": "stdout",
     "output_type": "stream",
     "text": [
      "Reversible XOR Circuit\n",
      "Classical Expectation: 1 XOR 0 = 1\n"
     ]
    }
   ],
   "source": [
    "a_val_xor = 1\n",
    "b_val_xor = 0\n",
    "\n",
    "qc_xor = QuantumCircuit(3,3)\n",
    "print(\"Reversible XOR Circuit\")\n",
    "print(f\"Classical Expectation: {a_val_xor} XOR {b_val_xor} = {a_val_xor ^ b_val_xor}\")"
   ]
  },
  {
   "cell_type": "code",
   "execution_count": 21,
   "id": "4c45d460",
   "metadata": {},
   "outputs": [],
   "source": [
    "\n",
    "if a_val_xor == 1:\n",
    "    qc_xor.x(0) \n",
    "\n",
    "if b_val_xor == 1:\n",
    "    qc_xor.x(1)"
   ]
  },
  {
   "cell_type": "code",
   "execution_count": 22,
   "id": "470490f3",
   "metadata": {},
   "outputs": [
    {
     "data": {
      "text/plain": [
       "CircuitInstruction(operation=Instruction(name='barrier', num_qubits=3, num_clbits=0, params=[]), qubits=(<Qubit register=(3, \"q\"), index=0>, <Qubit register=(3, \"q\"), index=1>, <Qubit register=(3, \"q\"), index=2>), clbits=())"
      ]
     },
     "execution_count": 22,
     "metadata": {},
     "output_type": "execute_result"
    }
   ],
   "source": [
    "qc_xor.barrier(label='Inputs Initialized')"
   ]
  },
  {
   "cell_type": "code",
   "execution_count": 23,
   "id": "f58e5e60",
   "metadata": {},
   "outputs": [
    {
     "data": {
      "text/plain": [
       "<qiskit.circuit.instructionset.InstructionSet at 0x1216bfa00>"
      ]
     },
     "execution_count": 23,
     "metadata": {},
     "output_type": "execute_result"
    }
   ],
   "source": [
    "qc_xor.cx(0, 2) \n",
    "qc_xor.cx(1, 2)"
   ]
  },
  {
   "cell_type": "markdown",
   "id": "7e7b20b9",
   "metadata": {},
   "source": [
    "The first cx(0, 2) copies A into Qubit 2.\n",
    "\n",
    "The second cx(1, 2) XORs B into Qubit 2. Since Qubit 2 already held A, it now holds A XOR B."
   ]
  },
  {
   "cell_type": "code",
   "execution_count": 24,
   "id": "81c535cf",
   "metadata": {},
   "outputs": [
    {
     "data": {
      "text/plain": [
       "CircuitInstruction(operation=Instruction(name='barrier', num_qubits=3, num_clbits=0, params=[]), qubits=(<Qubit register=(3, \"q\"), index=0>, <Qubit register=(3, \"q\"), index=1>, <Qubit register=(3, \"q\"), index=2>), clbits=())"
      ]
     },
     "execution_count": 24,
     "metadata": {},
     "output_type": "execute_result"
    }
   ],
   "source": [
    "qc_xor.barrier(label='XOR Computed')"
   ]
  },
  {
   "cell_type": "code",
   "execution_count": 26,
   "id": "b92d1ac6",
   "metadata": {},
   "outputs": [
    {
     "data": {
      "text/plain": [
       "<qiskit.circuit.instructionset.InstructionSet at 0x107ebe860>"
      ]
     },
     "execution_count": 26,
     "metadata": {},
     "output_type": "execute_result"
    }
   ],
   "source": [
    "qc_xor.measure(0, 0) \n",
    "qc_xor.measure(1, 1) \n",
    "qc_xor.measure(2, 2) \n"
   ]
  },
  {
   "cell_type": "code",
   "execution_count": 29,
   "id": "d7294a18",
   "metadata": {},
   "outputs": [
    {
     "data": {
      "image/png": "[encoded data removed]",
      "text/plain": [
       "<Figure size 1123.61x367.889 with 1 Axes>"
      ]
     },
     "execution_count": 29,
     "metadata": {},
     "output_type": "execute_result"
    }
   ],
   "source": [
    "qc_xor.draw(output='mpl')"
   ]
  },
  {
   "cell_type": "code",
   "execution_count": 53,
   "id": "2410589d",
   "metadata": {},
   "outputs": [
    {
     "name": "stdout",
     "output_type": "stream",
     "text": [
      "{'101': 1024}\n"
     ]
    }
   ],
   "source": [
    "job = Aer.get_backend('qasm_simulator').run(qc_xor, shots=1024)\n",
    "result = job.result()\n",
    "counts_xor = result.get_counts()\n",
    "print(counts_xor)"
   ]
  },
  {
   "cell_type": "code",
   "execution_count": 31,
   "id": "deaff054",
   "metadata": {},
   "outputs": [],
   "source": [
    "from qiskit_ibm_runtime import QiskitRuntimeService\n",
    "\n",
    "with open(\"ibmapi.txt\", \"r\") as f:\n",
    "    token = f.read().strip()\n",
    "\n",
    "QiskitRuntimeService.save_account(\n",
    "    token=token,\n",
    "    instance=\"Practice\",\n",
    "    set_as_default=True,\n",
    "    overwrite=True  # Allow overwriting the existing account\n",
    ")\n",
    "\n",
    "service = QiskitRuntimeService()"
   ]
  },
  {
   "cell_type": "code",
   "execution_count": 32,
   "id": "8fbca83c",
   "metadata": {},
   "outputs": [],
   "source": [
    "provider = service.backends()"
   ]
  },
  {
   "cell_type": "code",
   "execution_count": 33,
   "id": "f0806e7f",
   "metadata": {},
   "outputs": [
    {
     "data": {
      "text/plain": [
       "[<IBMBackend('ibm_torino')>, <IBMBackend('ibm_brisbane')>]"
      ]
     },
     "execution_count": 33,
     "metadata": {},
     "output_type": "execute_result"
    }
   ],
   "source": [
    "provider"
   ]
  },
  {
   "cell_type": "code",
   "execution_count": 34,
   "id": "c29e6a0c",
   "metadata": {},
   "outputs": [
    {
     "name": "stdout",
     "output_type": "stream",
     "text": [
      "Backend: ibm_torino, Qubits: 133, Operational: True, Pending Jobs: 420\n",
      "Backend: ibm_brisbane, Qubits: 127, Operational: True, Pending Jobs: 2059\n"
     ]
    }
   ],
   "source": [
    "for backend in provider:\n",
    "    name = backend.name\n",
    "    qubits = backend.num_qubits\n",
    "    status = backend.status().operational\n",
    "    pending_jobs = backend.status().pending_jobs\n",
    "    print(f\"Backend: {name}, Qubits: {qubits}, Operational: {status}, Pending Jobs: {pending_jobs}\")"
   ]
  },
  {
   "cell_type": "code",
   "execution_count": 35,
   "id": "656f086e",
   "metadata": {},
   "outputs": [],
   "source": [
    "from qiskit.visualization import plot_histogram"
   ]
  },
  {
   "cell_type": "code",
   "execution_count": null,
   "id": "e6d7e66f",
   "metadata": {},
   "outputs": [],
   "source": [
    "simulator = service.backend(\"ibm_brisbane\")"
   ]
  },
  {
   "cell_type": "code",
   "execution_count": 39,
   "id": "3e21730e",
   "metadata": {},
   "outputs": [],
   "source": [
    "from qiskit import transpile\n",
    "transpiled_qc_xor = transpile(qc_xor, simulator)"
   ]
  },
  {
   "cell_type": "code",
   "execution_count": 40,
   "id": "f50b9846",
   "metadata": {},
   "outputs": [
    {
     "name": "stdout",
     "output_type": "stream",
     "text": [
      "Job is still running. Current status: QUEUED\n",
      "Job is still running. Current status: RUNNING\n",
      "Job completed with status: DONE\n"
     ]
    }
   ],
   "source": [
    "from qiskit_ibm_runtime import Sampler\n",
    "import time\n",
    "\n",
    "sampler = Sampler(simulator)\n",
    "# need to pass a list of circuits to `sampler.run()`, even if you have only one circuit.\n",
    "\n",
    "job = sampler.run([transpiled_qc_xor], shots=1024)\n",
    "while not job.done():\n",
    "    print(f\"Job is still running. Current status: {job.status()}\")\n",
    "    time.sleep(2)  # Wait for 10 seconds before checking again\n",
    "\n",
    "job.wait_for_final_state()\n",
    "print(f\"Job completed with status: {job.status()}\")"
   ]
  },
  {
   "cell_type": "code",
   "execution_count": 41,
   "id": "b1522671",
   "metadata": {},
   "outputs": [],
   "source": [
    "result = job.result()"
   ]
  },
  {
   "cell_type": "code",
   "execution_count": 42,
   "id": "57ae11f5",
   "metadata": {},
   "outputs": [
    {
     "data": {
      "text/plain": [
       "DataBin(c=BitArray(<shape=(), num_shots=1024, num_bits=3>))"
      ]
     },
     "execution_count": 42,
     "metadata": {},
     "output_type": "execute_result"
    }
   ],
   "source": [
    "result[0].data"
   ]
  },
  {
   "cell_type": "code",
   "execution_count": 46,
   "id": "e8483d90",
   "metadata": {},
   "outputs": [
    {
     "name": "stdout",
     "output_type": "stream",
     "text": [
      "{'101': 979, '100': 20, '001': 10, '011': 4, '000': 6, '111': 5}\n"
     ]
    }
   ],
   "source": [
    "\n",
    "bitvals = result[0].data.c  \n",
    "\n",
    "counts_xor = bitvals.get_counts()\n",
    "\n",
    "print(counts_xor)"
   ]
  },
  {
   "cell_type": "code",
   "execution_count": 47,
   "id": "281519fd",
   "metadata": {},
   "outputs": [
    {
     "data": {
      "image/png": "[encoded data removed]",
      "text/plain": [
       "<Figure size 640x480 with 1 Axes>"
      ]
     },
     "execution_count": 47,
     "metadata": {},
     "output_type": "execute_result"
    }
   ],
   "source": [
    "import matplotlib.pyplot as plt\n",
    "from qiskit.visualization import plot_histogram\n",
    "plot_histogram(counts_xor)"
   ]
  },
  {
   "cell_type": "code",
   "execution_count": 54,
   "id": "6d4262b0",
   "metadata": {},
   "outputs": [
    {
     "name": "stdout",
     "output_type": "stream",
     "text": [
      "Measured Outcome: 101 (Qubit 2=Sum, Qubit 1=B, Qubit 0=A)\n",
      "  Measured A: 1 (Expected: 1) True\n",
      "  Measured B: 0 (Expected: 0) True\n",
      "  Measured Sum: 1 (Expected: 1) True\n"
     ]
    }
   ],
   "source": [
    "# Analyze the most frequent outcome (should be 100% for an ideal simulator)\n",
    "most_frequent_xor = max(counts_xor.keys(), key=counts_xor.get)\n",
    "measured_sum_xor = int(most_frequent_xor[0]) # Qubit 2 measurement (Sum)\n",
    "measured_b_xor = int(most_frequent_xor[1])   # Qubit 1 measurement (B)\n",
    "measured_a_xor = int(most_frequent_xor[2])   # Qubit 0 measurement (A)\n",
    "\n",
    "print(f\"Measured Outcome: {most_frequent_xor} (Qubit 2=Sum, Qubit 1=B, Qubit 0=A)\")\n",
    "print(f\"  Measured A: {measured_a_xor} (Expected: {a_val_xor}) {'True' if measured_a_xor == a_val_xor else '❌'}\")\n",
    "print(f\"  Measured B: {measured_b_xor} (Expected: {b_val_xor}) {'True' if measured_b_xor == b_val_xor else '❌'}\")\n",
    "print(f\"  Measured Sum: {measured_sum_xor} (Expected: {a_val_xor ^ b_val_xor}) {'True' if measured_sum_xor == (a_val_xor ^ b_val_xor) else '❌'}\")\n"
   ]
  },
  {
   "cell_type": "markdown",
   "id": "8bf41b92",
   "metadata": {},
   "source": [
    "Crucial for Reversibility: Inputs A and B are preserved\n",
    "\n",
    "Inputs A and B remain unchanged throughout the computation.\n",
    "\n",
    "This is a key property of reversible gates like CNOT"
   ]
  },
  {
   "cell_type": "markdown",
   "id": "fbed085c",
   "metadata": {},
   "source": [
    "Implementing reversible and gate"
   ]
  },
  {
   "cell_type": "code",
   "execution_count": null,
   "id": "8d11fcef",
   "metadata": {},
   "outputs": [],
   "source": []
  }
 ],
 "metadata": {
  "kernelspec": {
   "display_name": "base",
   "language": "python",
   "name": "python3"
  },
  "language_info": {
   "codemirror_mode": {
    "name": "ipython",
    "version": 3
   },
   "file_extension": ".py",
   "mimetype": "text/x-python",
   "name": "python",
   "nbconvert_exporter": "python",
   "pygments_lexer": "ipython3",
   "version": "3.13.5"
  }
 },
 "nbformat": 4,
 "nbformat_minor": 5
}
